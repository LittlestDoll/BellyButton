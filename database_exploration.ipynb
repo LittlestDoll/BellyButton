{
 "cells": [
  {
   "cell_type": "code",
   "execution_count": 4,
   "metadata": {
    "collapsed": true
   },
   "outputs": [],
   "source": [
    "import pandas as pd\n",
    "import re\n",
    "import matplotlib.pyplot as plt\n",
    "from sqlalchemy import *\n",
    "from sqlalchemy.ext.automap import automap_base\n",
    "from sqlalchemy.orm import Session\n",
    "from flask import Flask, jsonify"
   ]
  },
  {
   "cell_type": "code",
   "execution_count": 5,
   "metadata": {
    "collapsed": true
   },
   "outputs": [],
   "source": [
    "engine = create_engine(\"sqlite:///Resources/belly_button_biodiversity.sqlite\", echo=False)"
   ]
  },
  {
   "cell_type": "code",
   "execution_count": 6,
   "metadata": {},
   "outputs": [
    {
     "data": {
      "text/plain": [
       "['otu', 'samples', 'samples_metadata']"
      ]
     },
     "execution_count": 6,
     "metadata": {},
     "output_type": "execute_result"
    }
   ],
   "source": [
    "inspector = inspect(engine)\n",
    "inspector.get_table_names()"
   ]
  },
  {
   "cell_type": "code",
   "execution_count": 7,
   "metadata": {},
   "outputs": [
    {
     "name": "stdout",
     "output_type": "stream",
     "text": [
      "otu_id INTEGER\n",
      "lowest_taxonomic_unit_found TEXT\n"
     ]
    }
   ],
   "source": [
    "columns = inspector.get_columns('otu')\n",
    "for c in columns:\n",
    "    print(c['name'], c[\"type\"])"
   ]
  },
  {
   "cell_type": "code",
   "execution_count": 8,
   "metadata": {},
   "outputs": [
    {
     "name": "stdout",
     "output_type": "stream",
     "text": [
      "otu_id INTEGER\n",
      "BB_940 INTEGER\n",
      "BB_941 INTEGER\n",
      "BB_943 INTEGER\n",
      "BB_944 INTEGER\n",
      "BB_945 INTEGER\n",
      "BB_946 INTEGER\n",
      "BB_947 INTEGER\n",
      "BB_948 INTEGER\n",
      "BB_949 INTEGER\n",
      "BB_950 INTEGER\n",
      "BB_952 INTEGER\n",
      "BB_953 INTEGER\n",
      "BB_954 INTEGER\n",
      "BB_955 INTEGER\n",
      "BB_956 INTEGER\n",
      "BB_958 INTEGER\n",
      "BB_959 INTEGER\n",
      "BB_960 INTEGER\n",
      "BB_961 INTEGER\n",
      "BB_962 INTEGER\n",
      "BB_963 INTEGER\n",
      "BB_964 INTEGER\n",
      "BB_966 INTEGER\n",
      "BB_967 INTEGER\n",
      "BB_968 INTEGER\n",
      "BB_969 INTEGER\n",
      "BB_970 INTEGER\n",
      "BB_971 INTEGER\n",
      "BB_972 INTEGER\n",
      "BB_973 INTEGER\n",
      "BB_974 INTEGER\n",
      "BB_975 INTEGER\n",
      "BB_978 INTEGER\n",
      "BB_1233 INTEGER\n",
      "BB_1234 INTEGER\n",
      "BB_1235 INTEGER\n",
      "BB_1236 INTEGER\n",
      "BB_1237 INTEGER\n",
      "BB_1238 INTEGER\n",
      "BB_1242 INTEGER\n",
      "BB_1243 INTEGER\n",
      "BB_1246 INTEGER\n",
      "BB_1253 INTEGER\n",
      "BB_1254 INTEGER\n",
      "BB_1258 INTEGER\n",
      "BB_1259 INTEGER\n",
      "BB_1260 INTEGER\n",
      "BB_1264 INTEGER\n",
      "BB_1265 INTEGER\n",
      "BB_1273 INTEGER\n",
      "BB_1275 INTEGER\n",
      "BB_1276 INTEGER\n",
      "BB_1277 INTEGER\n",
      "BB_1278 INTEGER\n",
      "BB_1279 INTEGER\n",
      "BB_1280 INTEGER\n",
      "BB_1281 INTEGER\n",
      "BB_1282 INTEGER\n",
      "BB_1283 INTEGER\n",
      "BB_1284 INTEGER\n",
      "BB_1285 INTEGER\n",
      "BB_1286 INTEGER\n",
      "BB_1287 INTEGER\n",
      "BB_1288 INTEGER\n",
      "BB_1289 INTEGER\n",
      "BB_1290 INTEGER\n",
      "BB_1291 INTEGER\n",
      "BB_1292 INTEGER\n",
      "BB_1293 INTEGER\n",
      "BB_1294 INTEGER\n",
      "BB_1295 INTEGER\n",
      "BB_1296 INTEGER\n",
      "BB_1297 INTEGER\n",
      "BB_1298 INTEGER\n",
      "BB_1308 INTEGER\n",
      "BB_1309 INTEGER\n",
      "BB_1310 INTEGER\n",
      "BB_1374 INTEGER\n",
      "BB_1415 INTEGER\n",
      "BB_1439 INTEGER\n",
      "BB_1441 INTEGER\n",
      "BB_1443 INTEGER\n",
      "BB_1486 INTEGER\n",
      "BB_1487 INTEGER\n",
      "BB_1489 INTEGER\n",
      "BB_1490 INTEGER\n",
      "BB_1491 INTEGER\n",
      "BB_1494 INTEGER\n",
      "BB_1495 INTEGER\n",
      "BB_1497 INTEGER\n",
      "BB_1499 INTEGER\n",
      "BB_1500 INTEGER\n",
      "BB_1501 INTEGER\n",
      "BB_1502 INTEGER\n",
      "BB_1503 INTEGER\n",
      "BB_1504 INTEGER\n",
      "BB_1505 INTEGER\n",
      "BB_1506 INTEGER\n",
      "BB_1507 INTEGER\n",
      "BB_1508 INTEGER\n",
      "BB_1510 INTEGER\n",
      "BB_1511 INTEGER\n",
      "BB_1512 INTEGER\n",
      "BB_1513 INTEGER\n",
      "BB_1514 INTEGER\n",
      "BB_1515 INTEGER\n",
      "BB_1516 INTEGER\n",
      "BB_1517 INTEGER\n",
      "BB_1518 INTEGER\n",
      "BB_1519 INTEGER\n",
      "BB_1521 INTEGER\n",
      "BB_1524 INTEGER\n",
      "BB_1526 INTEGER\n",
      "BB_1527 INTEGER\n",
      "BB_1530 INTEGER\n",
      "BB_1531 INTEGER\n",
      "BB_1532 INTEGER\n",
      "BB_1533 INTEGER\n",
      "BB_1534 INTEGER\n",
      "BB_1535 INTEGER\n",
      "BB_1536 INTEGER\n",
      "BB_1537 INTEGER\n",
      "BB_1539 INTEGER\n",
      "BB_1540 INTEGER\n",
      "BB_1541 INTEGER\n",
      "BB_1542 INTEGER\n",
      "BB_1543 INTEGER\n",
      "BB_1544 INTEGER\n",
      "BB_1545 INTEGER\n",
      "BB_1546 INTEGER\n",
      "BB_1547 INTEGER\n",
      "BB_1548 INTEGER\n",
      "BB_1549 INTEGER\n",
      "BB_1550 INTEGER\n",
      "BB_1551 INTEGER\n",
      "BB_1552 INTEGER\n",
      "BB_1553 INTEGER\n",
      "BB_1554 INTEGER\n",
      "BB_1555 INTEGER\n",
      "BB_1556 INTEGER\n",
      "BB_1557 INTEGER\n",
      "BB_1558 INTEGER\n",
      "BB_1561 INTEGER\n",
      "BB_1562 INTEGER\n",
      "BB_1563 INTEGER\n",
      "BB_1564 INTEGER\n",
      "BB_1572 INTEGER\n",
      "BB_1573 INTEGER\n",
      "BB_1574 INTEGER\n",
      "BB_1576 INTEGER\n",
      "BB_1577 INTEGER\n",
      "BB_1581 INTEGER\n",
      "BB_1601 INTEGER\n"
     ]
    }
   ],
   "source": [
    "columns = inspector.get_columns('samples')\n",
    "for c in columns:\n",
    "    print(c['name'], c[\"type\"])"
   ]
  },
  {
   "cell_type": "code",
   "execution_count": 9,
   "metadata": {},
   "outputs": [
    {
     "name": "stdout",
     "output_type": "stream",
     "text": [
      "SAMPLEID INTEGER\n",
      "EVENT TEXT\n",
      "ETHNICITY TEXT\n",
      "GENDER TEXT\n",
      "AGE INTEGER\n",
      "WFREQ INTEGER\n",
      "BBTYPE TEXT\n",
      "LOCATION TEXT\n",
      "COUNTRY012 TEXT\n",
      "ZIP012 INTEGER\n",
      "COUNTRY1319 TEXT\n",
      "ZIP1319 INTEGER\n",
      "DOG TEXT\n",
      "CAT TEXT\n",
      "IMPSURFACE013 INTEGER\n",
      "NPP013 FLOAT\n",
      "MMAXTEMP013 FLOAT\n",
      "PFC013 FLOAT\n",
      "IMPSURFACE1319 INTEGER\n",
      "NPP1319 FLOAT\n",
      "MMAXTEMP1319 FLOAT\n",
      "PFC1319 FLOAT\n"
     ]
    }
   ],
   "source": [
    "columns = inspector.get_columns('samples_metadata')\n",
    "for c in columns:\n",
    "    print(c['name'], c[\"type\"])"
   ]
  },
  {
   "cell_type": "code",
   "execution_count": 23,
   "metadata": {},
   "outputs": [
    {
     "data": {
      "text/plain": [
       "[(1, 'Archaea;Euryarchaeota;Halobacteria;Halobacteriales;Halobacteriaceae;Halococcus'),\n",
       " (2, 'Archaea;Euryarchaeota;Halobacteria;Halobacteriales;Halobacteriaceae;Halococcus'),\n",
       " (3, 'Archaea;Euryarchaeota;Halobacteria;Halobacteriales;Halobacteriaceae;Natronorubrum'),\n",
       " (4, 'Archaea;Euryarchaeota;Methanobacteria;Methanobacteriales;Methanobacteriaceae;Methanobrevibacter'),\n",
       " (5, 'Archaea;Euryarchaeota;Methanobacteria;Methanobacteriales;Methanobacteriaceae;Methanobrevibacter'),\n",
       " (6, 'Archaea;Euryarchaeota;Methanobacteria;Methanobacteriales;Methanobacteriaceae;Methanobrevibacter'),\n",
       " (7, 'Bacteria'),\n",
       " (8, 'Bacteria'),\n",
       " (9, 'Bacteria'),\n",
       " (10, 'Bacteria')]"
      ]
     },
     "execution_count": 23,
     "metadata": {},
     "output_type": "execute_result"
    }
   ],
   "source": [
    "engine.execute('SELECT * FROM otu LIMIT 10').fetchall()\n"
   ]
  },
  {
   "cell_type": "code",
   "execution_count": 11,
   "metadata": {},
   "outputs": [
    {
     "data": {
      "text/plain": [
       "[(1, 0, 0, 0, 0, 0, 0, 0, 0, 0, 0, 0, 0, 0, 0, 0, 0, 0, 0, 0, 0, 0, 0, 1, 0, 0, 0, 0, 0, 0, 0, 0, 0, 0, 0, 0, 0, 0, 0, 0, 0, 0, 0, 0, 0, 0, 0, 0, 0, 0, 0, 0, 0, 0, 0, 0, 0, 0, 0, 0, 0, 0, 0, 0, 0, 0, 0, 0, 0, 0, 0, 0, 0, 0, 0, 0, 0, 0, 0, 0, 0, 0, 0, 0, 0, 0, 0, 0, 0, 0, 0, 0, 0, 0, 0, 0, 0, 0, 0, 0, 0, 0, 0, 0, 0, 0, 0, 0, 0, 0, 0, 0, 0, 0, 0, 0, 0, 0, 0, 0, 0, 0, 0, 0, 0, 0, 0, 0, 0, 0, 0, 0, 0, 0, 0, 0, 0, 0, 0, 0, 0, 0, 0, 0, 0, 0, 0, 0, 0, 0, 0, 0, 0, 0),\n",
       " (2, 0, 0, 0, 0, 0, 0, 0, 0, 0, 0, 0, 0, 0, 0, 0, 0, 0, 0, 0, 0, 0, 0, 4, 0, 0, 0, 0, 0, 0, 0, 0, 0, 0, 0, 0, 0, 0, 0, 0, 0, 0, 0, 0, 0, 0, 0, 0, 0, 0, 0, 0, 0, 0, 0, 0, 0, 0, 0, 0, 0, 0, 0, 0, 0, 0, 0, 0, 0, 0, 0, 0, 0, 0, 0, 0, 0, 0, 0, 0, 0, 0, 0, 0, 0, 0, 0, 0, 0, 0, 0, 0, 0, 0, 0, 0, 0, 0, 0, 0, 0, 0, 0, 0, 0, 0, 0, 0, 0, 0, 0, 0, 0, 0, 0, 0, 0, 0, 0, 0, 0, 0, 0, 0, 0, 0, 0, 0, 0, 0, 0, 0, 0, 0, 0, 0, 0, 0, 0, 0, 0, 0, 0, 0, 0, 0, 0, 0, 0, 0, 0, 0, 0, 0),\n",
       " (3, 0, 0, 0, 0, 0, 0, 0, 0, 0, 0, 0, 0, 0, 0, 0, 0, 0, 0, 0, 0, 0, 0, 0, 0, 0, 0, 0, 0, 0, 0, 0, 0, 0, 0, 0, 0, 0, 0, 0, 0, 0, 0, 0, 0, 0, 0, 0, 0, 0, 0, 0, 0, 0, 0, 0, 0, 0, 0, 0, 0, 0, 0, 0, 0, 0, 0, 0, 0, 0, 0, 1, 0, 0, 0, 0, 0, 0, 0, 0, 0, 0, 0, 0, 0, 0, 0, 0, 0, 0, 0, 0, 0, 0, 0, 0, 0, 0, 0, 0, 0, 0, 0, 0, 0, 0, 0, 0, 0, 0, 0, 0, 0, 0, 0, 0, 0, 0, 0, 0, 0, 0, 0, 0, 0, 0, 0, 0, 0, 0, 0, 0, 0, 0, 0, 0, 0, 0, 0, 0, 0, 0, 0, 0, 0, 0, 0, 0, 0, 0, 0, 0, 0, 0),\n",
       " (4, 0, 0, 0, 0, 0, 0, 0, 0, 0, 0, 0, 0, 0, 0, 0, 0, 0, 0, 0, 0, 0, 0, 0, 0, 0, 0, 0, 0, 0, 0, 0, 0, 0, 0, 0, 0, 0, 0, 0, 0, 0, 0, 0, 0, 0, 0, 1, 0, 7, 0, 0, 0, 0, 0, 0, 0, 0, 0, 0, 0, 0, 0, 0, 1, 27, 0, 0, 0, 0, 0, 2, 0, 0, 13, 0, 0, 2, 0, 0, 0, 0, 0, 0, 0, 0, 0, 0, 0, 0, 0, 0, 0, 0, 0, 7, 0, 0, 0, 0, 0, 0, 0, 0, 0, 0, 0, 0, 0, 0, 0, 0, 0, 0, 0, 0, 0, 0, 0, 0, 0, 0, 0, 0, 0, 0, 0, 0, 0, 0, 0, 0, 0, 0, 0, 0, 0, 0, 0, 0, 0, 0, 0, 0, 0, 0, 0, 0, 0, 0, 0, 0, 0, 0),\n",
       " (5, 0, 0, 0, 0, 0, 0, 0, 0, 0, 0, 0, 0, 0, 0, 0, 0, 0, 0, 0, 0, 0, 0, 0, 0, 0, 0, 0, 0, 0, 0, 0, 0, 0, 0, 0, 0, 0, 0, 0, 0, 0, 0, 0, 0, 0, 0, 0, 0, 0, 0, 0, 0, 0, 0, 0, 0, 0, 0, 0, 0, 0, 0, 0, 0, 1, 0, 0, 0, 0, 0, 0, 0, 0, 0, 0, 0, 0, 0, 0, 0, 0, 0, 0, 0, 0, 0, 0, 0, 0, 0, 0, 0, 0, 0, 0, 0, 0, 0, 0, 0, 0, 0, 0, 0, 0, 0, 0, 0, 0, 0, 0, 0, 0, 0, 0, 0, 0, 0, 0, 0, 0, 0, 0, 0, 0, 0, 0, 0, 0, 0, 0, 0, 0, 0, 0, 0, 0, 0, 0, 0, 0, 0, 0, 0, 0, 0, 0, 0, 0, 0, 0, 0, 0),\n",
       " (6, 0, 0, 0, 0, 0, 0, 0, 0, 0, 0, 0, 0, 0, 0, 0, 0, 0, 0, 0, 0, 0, 0, 0, 0, 0, 0, 0, 0, 0, 0, 0, 0, 0, 0, 0, 0, 0, 0, 0, 0, 0, 0, 0, 0, 0, 0, 0, 0, 0, 0, 0, 0, 0, 0, 0, 0, 0, 0, 0, 0, 0, 0, 0, 0, 1, 0, 0, 0, 0, 0, 0, 0, 0, 0, 0, 0, 0, 0, 0, 0, 0, 0, 0, 0, 0, 0, 0, 0, 0, 0, 0, 0, 0, 0, 0, 0, 0, 0, 0, 0, 0, 0, 0, 0, 0, 0, 0, 0, 0, 0, 0, 0, 0, 0, 0, 0, 0, 0, 0, 0, 0, 0, 0, 0, 0, 0, 0, 0, 0, 0, 0, 0, 0, 0, 0, 0, 0, 0, 0, 0, 0, 0, 0, 0, 0, 0, 0, 0, 0, 0, 0, 0, 0),\n",
       " (7, 0, 0, 0, 0, 0, 0, 0, 0, 0, 0, 0, 0, 0, 0, 0, 0, 0, 0, 0, 0, 0, 0, 0, 0, 0, 0, 0, 0, 0, 0, 0, 0, 0, 0, 0, 0, 0, 0, 0, 0, 0, 0, 0, 0, 0, 0, 0, 0, 0, 0, 0, 0, 0, 0, 0, 0, 0, 0, 0, 0, 0, 0, 0, 0, 0, 0, 0, 0, 0, 0, 0, 0, 0, 0, 0, 0, 0, 0, 0, 0, 1, 0, 0, 0, 0, 0, 0, 0, 0, 0, 0, 0, 0, 0, 0, 0, 0, 0, 0, 0, 0, 0, 0, 0, 0, 0, 0, 0, 0, 0, 0, 0, 0, 0, 0, 0, 0, 0, 0, 0, 0, 0, 0, 0, 0, 0, 0, 0, 0, 0, 0, 0, 0, 0, 0, 0, 0, 0, 0, 0, 0, 0, 0, 0, 0, 0, 0, 0, 0, 0, 0, 0, 0),\n",
       " (8, 0, 0, 0, 0, 0, 0, 0, 0, 0, 0, 0, 0, 0, 0, 0, 0, 0, 0, 0, 0, 0, 0, 0, 0, 0, 0, 0, 0, 0, 0, 0, 0, 0, 0, 0, 0, 0, 0, 0, 0, 0, 0, 0, 0, 0, 0, 0, 0, 0, 0, 0, 0, 0, 0, 0, 0, 0, 0, 0, 0, 0, 0, 0, 0, 0, 0, 0, 0, 0, 0, 0, 0, 0, 0, 0, 0, 0, 0, 0, 0, 0, 0, 0, 0, 0, 0, 0, 0, 0, 0, 0, 0, 0, 0, 0, 0, 0, 0, 0, 0, 0, 0, 0, 0, 0, 0, 0, 0, 0, 0, 0, 0, 0, 0, 0, 0, 0, 0, 0, 0, 0, 0, 0, 0, 0, 0, 0, 0, 1, 0, 0, 0, 0, 0, 0, 0, 0, 0, 0, 0, 0, 0, 0, 0, 0, 1, 0, 0, 0, 0, 0, 0, 0),\n",
       " (9, 0, 0, 0, 0, 0, 1, 0, 0, 0, 0, 0, 0, 0, 0, 0, 0, 0, 0, 0, 0, 0, 0, 0, 0, 0, 0, 0, 0, 0, 0, 0, 0, 0, 0, 0, 0, 0, 0, 0, 0, 0, 0, 0, 0, 0, 0, 0, 0, 0, 0, 0, 0, 0, 0, 0, 0, 0, 0, 0, 0, 0, 0, 0, 0, 0, 0, 0, 0, 0, 0, 0, 0, 0, 0, 0, 0, 0, 0, 0, 0, 0, 0, 0, 0, 0, 0, 0, 0, 0, 0, 0, 0, 0, 0, 0, 0, 0, 0, 0, 0, 0, 0, 0, 0, 0, 0, 0, 0, 0, 0, 0, 0, 0, 0, 0, 0, 0, 0, 0, 0, 0, 0, 0, 0, 0, 0, 0, 0, 0, 0, 0, 0, 0, 0, 0, 0, 0, 0, 0, 0, 0, 0, 0, 0, 0, 0, 0, 0, 0, 0, 0, 0, 0),\n",
       " (10, 0, 0, 0, 0, 0, 0, 0, 0, 0, 0, 0, 0, 0, 0, 0, 0, 0, 0, 0, 0, 0, 0, 0, 0, 0, 0, 0, 0, 0, 0, 0, 0, 0, 0, 0, 0, 0, 0, 0, 0, 0, 0, 0, 0, 0, 0, 0, 0, 0, 0, 0, 0, 0, 0, 0, 0, 0, 0, 0, 0, 0, 0, 0, 0, 0, 0, 0, 0, 0, 0, 0, 0, 0, 0, 0, 1, 0, 0, 0, 10, 0, 0, 0, 0, 0, 0, 0, 0, 0, 0, 0, 0, 0, 0, 0, 0, 0, 0, 0, 0, 0, 0, 0, 0, 0, 0, 0, 0, 0, 0, 0, 0, 0, 0, 0, 0, 0, 0, 0, 0, 0, 0, 0, 0, 0, 0, 0, 0, 0, 0, 0, 0, 0, 0, 0, 0, 0, 0, 0, 0, 0, 0, 0, 0, 0, 0, 0, 0, 0, 0, 0, 0, 0)]"
      ]
     },
     "execution_count": 11,
     "metadata": {},
     "output_type": "execute_result"
    }
   ],
   "source": [
    "engine.execute('SELECT * FROM samples LIMIT 10').fetchall()"
   ]
  },
  {
   "cell_type": "code",
   "execution_count": 12,
   "metadata": {},
   "outputs": [
    {
     "data": {
      "text/plain": [
       "[(940, 'BellyButtonsScienceOnline', 'Caucasian', 'F', 24, 2, 'I', 'Beaufort/NC', 'usa', 22306, 'usa', 22306, 'no', 'no', 8852, 37.17222214, 54.5, 0.0, 1, 0.0, 33.99000168, 25.5),\n",
       " (941, '0', 'Caucasian/Midleastern', 'F', 34, 1, 'I', 'Chicago/IL', '0', 0, '0', 0, '0', '0', 0, 0.0, 0.0, 0.0, 0, 0.0, 0.0, 0.0),\n",
       " (943, 'BellyButtonsScienceOnline', 'Caucasian', 'F', 49, 1, 'I', 'Omaha/NE', '0', 0, '0', 0, '0', '0', 0, 0.0, 0.0, 0.0, 0, 0.0, 0.0, 0.0),\n",
       " (944, 'BellyButtonsScienceOnline', 'European', 'M', 44, 1, 'I', 'NewHaven/CT', 'usa', 7079, 'usa', 8822, 'no', 'yes', 0, 35.81666565, 16.0, 0.0, 0, 6567.0, 32.40333176, 28.5),\n",
       " (945, 'BellyButtonsScienceOnline', 'Caucasian', 'F', 48, 1, 'I', 'Philidelphia/PA', 'usa', 84404, 'usa', 96025, 'no', 'no', 0, 37.78333282, 4.0, 0.0, 0, 5613.0, 33.63444519, 24.0),\n",
       " (946, 'BellyButtonsScienceOnline', 'Caucasian', 'F', 42, 3, 'I', 'Deerfield/MA', 'usa', 12538, 'usa', 12538, 'no', 'yes', 0, 34.76111221, 15.5, 0.0, 0, 6273.0, 29.40333366, 67.5),\n",
       " (947, 'BellyButtonsScienceOnline', 'Caucasian', 'M', 49, 6, 'I', 'ChapelHill/NC', 'usa', 48823, 'usa', 48823, 'no', 'yes', 7491, 30.35666656, 31.0, 0.0, 0, 5357.0, 30.88111115, 16.5),\n",
       " (948, 'BellyButtonsScienceOnline', 'Caucasian', 'M', 20, 0, 'I', 'ChapelHill/NC', 'usa', 27613, 'usa', 27613, 'no', 'no', 0, 53.88777924, 0.0, 0.0, 31, 0.0, 31.72999954, 22.5),\n",
       " (949, 'BellyButtonsScienceOnline', 'Caucasian', 'F', 51, 3, 'I', 'Durham/NC', 'usa', 7009, 'usa', 7009, 'no', 'no', 0, 35.5344429, 36.0, 0.0, 5, 0.0, 35.5344429, 36.0),\n",
       " (950, 'BellyButtonsScienceOnline', 'Caucasian', 'M', 51, 5, 'I', 'NewYork/NY', 'usa', 1730, 'usa', 1730, 'yes', 'no', 6273, 29.40333366, 67.5, 0.0, 0, 0.0, 30.48111153, 33.0)]"
      ]
     },
     "execution_count": 12,
     "metadata": {},
     "output_type": "execute_result"
    }
   ],
   "source": [
    "engine.execute('SELECT * FROM samples_metadata LIMIT 10').fetchall()"
   ]
  },
  {
   "cell_type": "code",
   "execution_count": 13,
   "metadata": {
    "collapsed": true
   },
   "outputs": [],
   "source": [
    "metadata = MetaData()"
   ]
  },
  {
   "cell_type": "code",
   "execution_count": 17,
   "metadata": {},
   "outputs": [],
   "source": [
    "metadata.reflect(engine, only=['otu', 'samples', 'samples_metadata'])"
   ]
  },
  {
   "cell_type": "code",
   "execution_count": 18,
   "metadata": {
    "collapsed": true
   },
   "outputs": [],
   "source": [
    "Base = automap_base(metadata=metadata)\n",
    "Base.prepare()"
   ]
  },
  {
   "cell_type": "code",
   "execution_count": 19,
   "metadata": {
    "collapsed": true
   },
   "outputs": [],
   "source": [
    "otu, samples, samples_metadata = Base.classes.otu, Base.classes.samples, Base.classes.samples_metadata"
   ]
  },
  {
   "cell_type": "code",
   "execution_count": 20,
   "metadata": {
    "collapsed": true
   },
   "outputs": [],
   "source": [
    "session = Session(engine)"
   ]
  },
  {
   "cell_type": "code",
   "execution_count": 56,
   "metadata": {},
   "outputs": [
    {
     "name": "stdout",
     "output_type": "stream",
     "text": [
      "1 Archaea;Euryarchaeota;Halobacteria;Halobacteriales;Halobacteriaceae;Halococcus\n",
      "2 Archaea;Euryarchaeota;Halobacteria;Halobacteriales;Halobacteriaceae;Halococcus\n",
      "3 Archaea;Euryarchaeota;Halobacteria;Halobacteriales;Halobacteriaceae;Natronorubrum\n",
      "4 Archaea;Euryarchaeota;Methanobacteria;Methanobacteriales;Methanobacteriaceae;Methanobrevibacter\n",
      "5 Archaea;Euryarchaeota;Methanobacteria;Methanobacteriales;Methanobacteriaceae;Methanobrevibacter\n",
      "6 Archaea;Euryarchaeota;Methanobacteria;Methanobacteriales;Methanobacteriaceae;Methanobrevibacter\n",
      "7 Bacteria\n",
      "8 Bacteria\n",
      "9 Bacteria\n",
      "10 Bacteria\n"
     ]
    }
   ],
   "source": [
    "foo = session.query().limit(10)\n",
    "for x in foo:\n",
    "    print(x.otu_id, x.lowest_taxonomic_unit_found)"
   ]
  },
  {
   "cell_type": "code",
   "execution_count": 59,
   "metadata": {},
   "outputs": [],
   "source": [
    "result = session.query(samples_metadata.SAMPLEID).all()"
   ]
  },
  {
   "cell_type": "code",
   "execution_count": 63,
   "metadata": {},
   "outputs": [
    {
     "data": {
      "text/plain": [
       "['BB_940',\n",
       " 'BB_941',\n",
       " 'BB_943',\n",
       " 'BB_944',\n",
       " 'BB_945',\n",
       " 'BB_946',\n",
       " 'BB_947',\n",
       " 'BB_948',\n",
       " 'BB_949',\n",
       " 'BB_950',\n",
       " 'BB_952',\n",
       " 'BB_953',\n",
       " 'BB_954',\n",
       " 'BB_955',\n",
       " 'BB_956',\n",
       " 'BB_958',\n",
       " 'BB_959',\n",
       " 'BB_960',\n",
       " 'BB_961',\n",
       " 'BB_962',\n",
       " 'BB_963',\n",
       " 'BB_964',\n",
       " 'BB_966',\n",
       " 'BB_967',\n",
       " 'BB_968',\n",
       " 'BB_969',\n",
       " 'BB_970',\n",
       " 'BB_971',\n",
       " 'BB_972',\n",
       " 'BB_973',\n",
       " 'BB_974',\n",
       " 'BB_975',\n",
       " 'BB_978',\n",
       " 'BB_1233',\n",
       " 'BB_1234',\n",
       " 'BB_1235',\n",
       " 'BB_1236',\n",
       " 'BB_1237',\n",
       " 'BB_1238',\n",
       " 'BB_1242',\n",
       " 'BB_1243',\n",
       " 'BB_1246',\n",
       " 'BB_1253',\n",
       " 'BB_1254',\n",
       " 'BB_1258',\n",
       " 'BB_1259',\n",
       " 'BB_1260',\n",
       " 'BB_1264',\n",
       " 'BB_1265',\n",
       " 'BB_1273',\n",
       " 'BB_1275',\n",
       " 'BB_1276',\n",
       " 'BB_1277',\n",
       " 'BB_1278',\n",
       " 'BB_1279',\n",
       " 'BB_1280',\n",
       " 'BB_1281',\n",
       " 'BB_1282',\n",
       " 'BB_1283',\n",
       " 'BB_1284',\n",
       " 'BB_1285',\n",
       " 'BB_1286',\n",
       " 'BB_1287',\n",
       " 'BB_1288',\n",
       " 'BB_1289',\n",
       " 'BB_1290',\n",
       " 'BB_1291',\n",
       " 'BB_1292',\n",
       " 'BB_1293',\n",
       " 'BB_1294',\n",
       " 'BB_1295',\n",
       " 'BB_1296',\n",
       " 'BB_1297',\n",
       " 'BB_1298',\n",
       " 'BB_1308',\n",
       " 'BB_1309',\n",
       " 'BB_1310',\n",
       " 'BB_1374',\n",
       " 'BB_1415',\n",
       " 'BB_1439',\n",
       " 'BB_1441',\n",
       " 'BB_1443',\n",
       " 'BB_1486',\n",
       " 'BB_1487',\n",
       " 'BB_1489',\n",
       " 'BB_1490',\n",
       " 'BB_1491',\n",
       " 'BB_1494',\n",
       " 'BB_1495',\n",
       " 'BB_1497',\n",
       " 'BB_1499',\n",
       " 'BB_1500',\n",
       " 'BB_1501',\n",
       " 'BB_1502',\n",
       " 'BB_1503',\n",
       " 'BB_1504',\n",
       " 'BB_1505',\n",
       " 'BB_1506',\n",
       " 'BB_1507',\n",
       " 'BB_1508',\n",
       " 'BB_1510',\n",
       " 'BB_1511',\n",
       " 'BB_1512',\n",
       " 'BB_1513',\n",
       " 'BB_1514',\n",
       " 'BB_1515',\n",
       " 'BB_1516',\n",
       " 'BB_1517',\n",
       " 'BB_1518',\n",
       " 'BB_1519',\n",
       " 'BB_1521',\n",
       " 'BB_1524',\n",
       " 'BB_1526',\n",
       " 'BB_1527',\n",
       " 'BB_1530',\n",
       " 'BB_1531',\n",
       " 'BB_1532',\n",
       " 'BB_1533',\n",
       " 'BB_1534',\n",
       " 'BB_1535',\n",
       " 'BB_1536',\n",
       " 'BB_1537',\n",
       " 'BB_1539',\n",
       " 'BB_1540',\n",
       " 'BB_1541',\n",
       " 'BB_1542',\n",
       " 'BB_1543',\n",
       " 'BB_1544',\n",
       " 'BB_1545',\n",
       " 'BB_1546',\n",
       " 'BB_1547',\n",
       " 'BB_1548',\n",
       " 'BB_1549',\n",
       " 'BB_1550',\n",
       " 'BB_1551',\n",
       " 'BB_1552',\n",
       " 'BB_1553',\n",
       " 'BB_1554',\n",
       " 'BB_1555',\n",
       " 'BB_1556',\n",
       " 'BB_1557',\n",
       " 'BB_1558',\n",
       " 'BB_1561',\n",
       " 'BB_1562',\n",
       " 'BB_1563',\n",
       " 'BB_1564',\n",
       " 'BB_1572',\n",
       " 'BB_1573',\n",
       " 'BB_1574',\n",
       " 'BB_1576',\n",
       " 'BB_1577',\n",
       " 'BB_1581',\n",
       " 'BB_1601']"
      ]
     },
     "execution_count": 63,
     "metadata": {},
     "output_type": "execute_result"
    }
   ],
   "source": [
    "[ \"BB_\"+str(id[0]) for id in result ]"
   ]
  },
  {
   "cell_type": "code",
   "execution_count": 64,
   "metadata": {
    "collapsed": true
   },
   "outputs": [],
   "source": [
    "        result = session.query(samples_metadata).filter(samples_metadata.SAMPLEID == int(\"1265\"))\n",
    "    "
   ]
  },
  {
   "cell_type": "code",
   "execution_count": 65,
   "metadata": {},
   "outputs": [
    {
     "data": {
      "text/plain": [
       "<sqlalchemy.orm.query.Query at 0x10e689e48>"
      ]
     },
     "execution_count": 65,
     "metadata": {},
     "output_type": "execute_result"
    }
   ],
   "source": [
    "result"
   ]
  },
  {
   "cell_type": "code",
   "execution_count": 82,
   "metadata": {},
   "outputs": [
    {
     "name": "stdout",
     "output_type": "stream",
     "text": [
      "{'SAMPLEID': 1265, 'MMAXTEMP013': 31.5, 'COUNTRY012': 'usa', 'EVENT': 'BellyButtonsMuseum2', 'PFC013': 0.0, 'ZIP012': 27615, 'IMPSURFACE1319': 0, 'ETHNICITY': 'Caucasian', 'COUNTRY1319': 'n/a', 'GENDER': 'f', 'NPP1319': 0.0, 'ZIP1319': 'n/a', 'MMAXTEMP1319': 0.0, 'AGE': 10, 'DOG': 'yes', 'WFREQ': 0, 'PFC1319': 0.0, 'CAT': 'yes', 'BBTYPE': 'i', 'IMPSURFACE013': 0, 'LOCATION': 'Raleigh,NC', 'NPP013': 34.54111099}\n"
     ]
    }
   ],
   "source": [
    "row = result[0].__dict__\n",
    "row.pop('_sa_instance_state', None)\n",
    "print(row)\n",
    "    "
   ]
  },
  {
   "cell_type": "code",
   "execution_count": null,
   "metadata": {
    "collapsed": true
   },
   "outputs": [],
   "source": []
  }
 ],
 "metadata": {
  "kernelspec": {
   "display_name": "Python [conda env:PythonData]",
   "language": "python",
   "name": "conda-env-PythonData-py"
  },
  "language_info": {
   "codemirror_mode": {
    "name": "ipython",
    "version": 3
   },
   "file_extension": ".py",
   "mimetype": "text/x-python",
   "name": "python",
   "nbconvert_exporter": "python",
   "pygments_lexer": "ipython3",
   "version": "3.6.1"
  }
 },
 "nbformat": 4,
 "nbformat_minor": 2
}
